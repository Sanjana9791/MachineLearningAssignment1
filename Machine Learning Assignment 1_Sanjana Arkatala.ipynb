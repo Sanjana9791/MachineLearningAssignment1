{
 "cells": [
  {
   "cell_type": "code",
   "execution_count": 1,
   "id": "ea5336f7",
   "metadata": {},
   "outputs": [
    {
     "name": "stdout",
     "output_type": "stream",
     "text": [
      "The Maximun age is  26\n",
      "The Minimum age is 19\n",
      "The average of ages is 22.75\n",
      "Range is 7\n"
     ]
    }
   ],
   "source": [
    "#Question1\n",
    "\n",
    "ages = [19, 22, 19, 24, 20, 25, 26, 24, 25, 24]\n",
    "ages.sort() #sorts the array of ages \n",
    "Maximum=max(ages) #This gives the maximum of ages\n",
    "Minimum=min(ages) #This gives the minimum of ages\n",
    "print(\"The Maximun age is \", Maximum)\n",
    "print(\"The Minimum age is\",Minimum)  #prints the Maximum and minimum of ages\n",
    "\n",
    "#Adding the maximum and minimun of age to the array of ages\n",
    "ages.append(max(ages))  \n",
    "ages.append(min(ages))  \n",
    "\n",
    "#To find the median of ages\n",
    "length = len(ages)\n",
    "if(length%2 !=0): #if the length of array is odd, median of the array is the middle element\n",
    "    median = ages[length//2]\n",
    "   \n",
    "else: #if the length of array is even, median of the array is average of the middle two elements\n",
    "     median = (ages[length//2]+ ages[(length//2) +1])/2\n",
    "\n",
    "\n",
    "sumOfAges=sum(ages) #gives the sum of all the ages.\n",
    "print(\"The average of ages is\",sumOfAges/len(ages)) #average = sum divided by number of ages\n",
    "range=Maximum-Minimum #range = maximum - minimum\n",
    "print(\"Range is\",range) #prints range"
   ]
  },
  {
   "cell_type": "code",
   "execution_count": 2,
   "id": "1eaf2364",
   "metadata": {},
   "outputs": [
    {
     "name": "stdout",
     "output_type": "stream",
     "text": [
      "Dog dictionary {'Name': 'Pluto', 'Color': 'White', 'Breed': 'Maltese', 'Legs': 4, 'Age': 2}\n",
      "Student dictionary {'first_name': 'Sanjana', 'last_name': 'Arkatala', 'gender': 'Female', 'age': 25, 'marital_status': 'Single', 'skills': ['Java', 'Python'], 'country': 'India', 'city': 'Hyderabad', 'Address': 'Gachibowli'}\n",
      "Length of the student dictonary is  9\n",
      "Data type of value of skills <class 'list'>\n",
      "list of keys are ['first_name', 'last_name', 'gender', 'age', 'marital_status', 'skills', 'country', 'city', 'Address']\n",
      "list of values are ['Sanjana', 'Arkatala', 'Female', 25, 'Single', ['Java', 'Python', 'Javascript'], 'India', 'Hyderabad', 'Gachibowli']\n"
     ]
    }
   ],
   "source": [
    "#Question2\n",
    "dog={} #Creating empty dog dictionary\n",
    "#adding name, color, breed, legs, age to the dog dictionary\n",
    "dog['Name']='Pluto'\n",
    "dog['Color']='White'\n",
    "dog['Breed']='Maltese'\n",
    "dog['Legs']=4\n",
    "dog['Age']=2\n",
    "\n",
    "print(\"Dog dictionary\",dog) #printing dog dictionary\n",
    "\n",
    "#creating student dictionary\n",
    "Student={}\n",
    "\n",
    "#adding values to student dictionary\n",
    "Student[\"first_name\"]='Sanjana'\n",
    "Student[\"last_name\"]='Arkatala'\n",
    "Student[\"gender\"]='Female'\n",
    "Student[\"age\"]=25\n",
    "Student[\"marital_status\"]='Single'\n",
    "Student['skills']=['Java',\"Python\"]\n",
    "Student[\"country\"]=\"India\"\n",
    "Student['city']=\"Hyderabad\"\n",
    "Student[\"Address\"]=\"Gachibowli\"\n",
    "print(\"Student dictionary\",Student) #printing student dictionary\n",
    "print(\"Length of the student dictonary is \",len(Student)) #prints the length\n",
    "print(\"Data type of value of skills\",type(Student['skills'])) #prints the type of values of skills\n",
    "Student['skills'].append('Javascript') #adding Javascript to student skills\n",
    "print(\"list of keys are\",list(Student.keys())) \n",
    "print(\"list of values are\",list(Student.values()))"
   ]
  },
  {
   "cell_type": "code",
   "execution_count": 3,
   "id": "02100c94",
   "metadata": {},
   "outputs": [
    {
     "name": "stdout",
     "output_type": "stream",
     "text": [
      "My siblings are ('Manasa', 'Mounika', 'Aishwarya', 'Prudhvi', 'Harshit', 'Saideep')\n",
      "Total Number of siblings: 6\n",
      "My family members are ('Manasa', 'Mounika', 'Aishwarya', 'Prudhvi', 'Harshit', 'Saideep', 'Nirupama', 'Venkat')\n"
     ]
    }
   ],
   "source": [
    "#Question3\n",
    "sisters=('Manasa','Mounika','Aishwarya') #tuple containing sisters\n",
    "brothers=('Prudhvi','Harshit','Saideep') #tuple containing brothers\n",
    "siblings=sisters+brothers #creating new tuple called siblings which contains both brothers and sisters\n",
    "print(\"My siblings are\",siblings)\n",
    "print(\"Total Number of siblings:\",len(siblings))\n",
    "family_members=siblings+('Nirupama',\"Venkat\") #creating family numbers tuple and adding parents names to it.\n",
    "print(\"My family members are\",family_members)"
   ]
  },
  {
   "cell_type": "code",
   "execution_count": 4,
   "id": "0d9112e5",
   "metadata": {},
   "outputs": [
    {
     "name": "stdout",
     "output_type": "stream",
     "text": [
      "length of the set it_companies 7\n",
      "IT comapanies are {'Apple', 'Facebook', 'Google', 'Twitter', 'Oracle', 'Amazon', 'IBM', 'Microsoft'}\n",
      "The updated it companies are {'Apple', 'Accenture', 'Amazon', 'Google', 'Twitter', 'ValueLabs', 'Oracle', 'IBM', 'Microsoft', 'ADP', 'Facebook'}\n",
      "The updated list is: {'Apple', 'Accenture', 'Amazon', 'Google', 'Twitter', 'Oracle', 'IBM', 'Microsoft', 'ADP', 'Facebook'}\n",
      "A union B is: {19, 20, 22, 24, 25, 26, 27, 28}\n",
      "A intersection B is:  {19, 20, 22, 24, 25, 26}\n",
      "True\n",
      "False\n",
      "joining A with B {19, 20, 22, 24, 25, 26, 27, 28}\n",
      "joining B with A {19, 20, 22, 24, 25, 26, 27, 28}\n",
      "symmetric diffrence beteween A and B {27, 28}\n",
      "None\n",
      "None\n",
      "None\n",
      "set of ages: {19, 22, 24, 25, 26}\n",
      "length of the set of list is:  5\n",
      "lenght of the set is : 8\n"
     ]
    }
   ],
   "source": [
    "#Question4\n",
    "it_companies = {'Facebook', 'Google', 'Microsoft', 'Apple', 'IBM', 'Oracle', 'Amazon'}\n",
    "#creating a set A\n",
    "A = {19, 22, 24, 20, 25, 26}\n",
    "#creating a set B\n",
    "B = {19, 22, 20, 25, 26, 24, 28, 27}\n",
    "#creating a list of ages\n",
    "age = [22, 19, 24, 25, 26, 24, 25, 24]\n",
    "print(\"length of the set it_companies\",len(it_companies))\n",
    "it_companies.add('Twitter') #adding Twitter to the it_companies\n",
    "print(\"IT comapanies are\",it_companies) \n",
    "it_companies.update({'ADP','ValueLabs',\"Accenture\"})  #adding multiple it companies to the set\n",
    "print(\"The updated it companies are\",it_companies) \n",
    "it_companies.remove('ValueLabs') # removing ValueLabs from the it_companies list.\n",
    "print(\"The updated list is:\",it_companies)\n",
    "print(\"A union B is:\",A.union(B)) #prints A union B\n",
    "print(\"A intersection B is: \",A.intersection(B)) #prints A intersection B\n",
    "print(A.issubset(B)) #checking if A is subset of B\n",
    "print(A.isdisjoint(B)) # cheking whether the A and B are disjoint sets\n",
    "print(\"joining A with B\",A.union(B)) \n",
    "print(\"joining B with A\",B.union(A))\n",
    "print(\"symmetric diffrence beteween A and B\",A.symmetric_difference(B))  \n",
    "print(A.clear()) # deleting set A\n",
    "print(B.clear()) # deleting set B\n",
    "print(it_companies.clear()) #deleting set it_companies\n",
    "print(\"set of ages:\",set(age)) #creating set of ages\n",
    "print(\"length of the set of list is: \",len(set(age)))\n",
    "print(\"lenght of the set is :\",len(age))"
   ]
  },
  {
   "cell_type": "code",
   "execution_count": 4,
   "id": "c6d740ea",
   "metadata": {},
   "outputs": [
    {
     "name": "stdout",
     "output_type": "stream",
     "text": [
      "Area of circle is:  2827\n",
      "Circumference  of the circle is  188\n",
      "Enter the Radius 17\n",
      "Area of circle is:  907\n"
     ]
    }
   ],
   "source": [
    "#Question5\n",
    "import math #importing math package\n",
    "radius=30 #intializing radius with 30\n",
    "_area_of_circle_= int(math.pi*(radius**2)) #calculating the area ond circumference of the circle\n",
    "print(\"Area of circle is: \",_area_of_circle_)\n",
    "_circumference_of_circle_= int(2*math.pi*radius) #calculating circumference of the circle\n",
    "print(\"Circumference  of the circle is \",_circumference_of_circle_)\n",
    "rad=int(input(\"Enter the Radius \")) #taking the input radius \n",
    "print(\"Area of circle is: \",int(math.pi*(rad**2))) \n"
   ]
  },
  {
   "cell_type": "code",
   "execution_count": 5,
   "id": "29c04d42",
   "metadata": {},
   "outputs": [
    {
     "name": "stdout",
     "output_type": "stream",
     "text": [
      "No of unique words in the given phrase are:  10\n"
     ]
    }
   ],
   "source": [
    "#Question6\n",
    "sentence=\"I am a teacher and I love to inspire and teach people\"\n",
    "print(\"No of unique words in the given phrase are: \",len(set(sentence.split(' '))))"
   ]
  },
  {
   "cell_type": "code",
   "execution_count": 6,
   "id": "4ff87ab5",
   "metadata": {},
   "outputs": [
    {
     "name": "stdout",
     "output_type": "stream",
     "text": [
      "Name\tAge\tCountry\tCity\n",
      "Asabensh\t250\tFinland\tHelsinki\n"
     ]
    }
   ],
   "source": [
    "#Question7\n",
    "print(\"Name\\tAge\\tCountry\\tCity\") #printing the strings using tab escape sequence\n",
    "print(\"Asabensh\\t250\\tFinland\\tHelsinki\")"
   ]
  },
  {
   "cell_type": "code",
   "execution_count": 2,
   "id": "5683df12",
   "metadata": {},
   "outputs": [
    {
     "name": "stdout",
     "output_type": "stream",
     "text": [
      "The area of a circle with radius 10 is 314 meters square.\n"
     ]
    }
   ],
   "source": [
    "#Question8\n",
    "radius=10 #initlizing radius with a value 10\n",
    "area=3.14*radius**2 #calculating area of circle\n",
    "print('The area of a circle with radius 10 is {0} meters square.'.format(int(area)))"
   ]
  },
  {
   "cell_type": "code",
   "execution_count": 1,
   "id": "422c7178",
   "metadata": {},
   "outputs": [
    {
     "name": "stdout",
     "output_type": "stream",
     "text": [
      "Enter the number of students 5\n",
      "Enter the weight of the student  1 :70\n",
      "Enter the weight of the student  2 :75\n",
      "Enter the weight of the student  3 :110\n",
      "Enter the weight of the student  4 :63\n",
      "Enter the weight of the student  5 :124\n",
      "The converted list is:  [31.694285973014576, 33.95816354251562, 49.80530652902291, 28.52485737571312, 56.14416372362582]\n"
     ]
    }
   ],
   "source": [
    "#Question9\n",
    "weights=[] #creating the weights list\n",
    "N=int(input(\"Enter the number of students \")) #taking input here\n",
    "for i in range(N):\n",
    "    weights.append(int(input(\"Enter the weight of the student  \"+str(i+1)+\" :\")))\n",
    "kiloGrams=[] #creating the kilograms list\n",
    "for i in weights:\n",
    "    kiloGrams.append(float(i/2.2086))  #conversion from pounds to kilograms\n",
    "print(\"The converted list is: \",kiloGrams)\n"
   ]
  },
  {
   "cell_type": "code",
   "execution_count": null,
   "id": "5c8410cc",
   "metadata": {},
   "outputs": [],
   "source": []
  }
 ],
 "metadata": {
  "kernelspec": {
   "display_name": "Python 3 (ipykernel)",
   "language": "python",
   "name": "python3"
  },
  "language_info": {
   "codemirror_mode": {
    "name": "ipython",
    "version": 3
   },
   "file_extension": ".py",
   "mimetype": "text/x-python",
   "name": "python",
   "nbconvert_exporter": "python",
   "pygments_lexer": "ipython3",
   "version": "3.9.12"
  }
 },
 "nbformat": 4,
 "nbformat_minor": 5
}
